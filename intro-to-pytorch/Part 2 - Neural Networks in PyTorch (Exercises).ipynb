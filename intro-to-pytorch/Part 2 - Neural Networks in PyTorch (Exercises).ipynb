{
 "cells": [
  {
   "cell_type": "markdown",
   "metadata": {},
   "source": [
    "# Neural networks with PyTorch\n",
    "\n",
    "Deep learning networks tend to be massive with dozens or hundreds of layers, that's where the term \"deep\" comes from. You can build one of these deep networks using only weight matrices as we did in the previous notebook, but in general it's very cumbersome and difficult to implement. PyTorch has a nice module `nn` that provides a nice way to efficiently build large neural networks."
   ]
  },
  {
   "cell_type": "code",
   "execution_count": 1,
   "metadata": {},
   "outputs": [],
   "source": [
    "# Import necessary packages\n",
    "\n",
    "%matplotlib inline\n",
    "%config InlineBackend.figure_format = 'retina'\n",
    "\n",
    "import numpy as np\n",
    "import torch\n",
    "\n",
    "import helper\n",
    "\n",
    "import matplotlib.pyplot as plt"
   ]
  },
  {
   "cell_type": "markdown",
   "metadata": {},
   "source": [
    "\n",
    "Now we're going to build a larger network that can solve a (formerly) difficult problem, identifying text in an image. Here we'll use the MNIST dataset which consists of greyscale handwritten digits. Each image is 28x28 pixels, you can see a sample below\n",
    "\n",
    "<img src='assets/mnist.png'>\n",
    "\n",
    "Our goal is to build a neural network that can take one of these images and predict the digit in the image.\n",
    "\n",
    "First up, we need to get our dataset. This is provided through the `torchvision` package. The code below will download the MNIST dataset, then create training and test datasets for us. Don't worry too much about the details here, you'll learn more about this later."
   ]
  },
  {
   "cell_type": "code",
   "execution_count": 2,
   "metadata": {},
   "outputs": [
    {
     "name": "stderr",
     "output_type": "stream",
     "text": [
      "\r",
      "0it [00:00, ?it/s]"
     ]
    },
    {
     "name": "stdout",
     "output_type": "stream",
     "text": [
      "Downloading http://yann.lecun.com/exdb/mnist/train-images-idx3-ubyte.gz to /Users/frozenfire/.pytorch/MNIST_data/MNIST/raw/train-images-idx3-ubyte.gz\n"
     ]
    },
    {
     "name": "stderr",
     "output_type": "stream",
     "text": [
      " 99%|█████████▉| 9854976/9912422 [06:43<00:00, 658971.15it/s]"
     ]
    },
    {
     "name": "stdout",
     "output_type": "stream",
     "text": [
      "Extracting /Users/frozenfire/.pytorch/MNIST_data/MNIST/raw/train-images-idx3-ubyte.gz\n"
     ]
    },
    {
     "name": "stderr",
     "output_type": "stream",
     "text": [
      "\n",
      "0it [00:00, ?it/s]\u001b[A"
     ]
    },
    {
     "name": "stdout",
     "output_type": "stream",
     "text": [
      "Downloading http://yann.lecun.com/exdb/mnist/train-labels-idx1-ubyte.gz to /Users/frozenfire/.pytorch/MNIST_data/MNIST/raw/train-labels-idx1-ubyte.gz\n"
     ]
    },
    {
     "name": "stderr",
     "output_type": "stream",
     "text": [
      "\n",
      "  0%|          | 0/28881 [00:01<?, ?it/s]\u001b[A\n",
      " 57%|█████▋    | 16384/28881 [00:02<00:00, 40038.62it/s]\u001b[A\n",
      "32768it [00:02, 16231.17it/s]                           \u001b[A\n",
      "0it [00:00, ?it/s]\u001b[A"
     ]
    },
    {
     "name": "stdout",
     "output_type": "stream",
     "text": [
      "Extracting /Users/frozenfire/.pytorch/MNIST_data/MNIST/raw/train-labels-idx1-ubyte.gz\n",
      "Downloading http://yann.lecun.com/exdb/mnist/t10k-images-idx3-ubyte.gz to /Users/frozenfire/.pytorch/MNIST_data/MNIST/raw/t10k-images-idx3-ubyte.gz\n"
     ]
    },
    {
     "name": "stderr",
     "output_type": "stream",
     "text": [
      "\n",
      "  0%|          | 0/1648877 [00:01<?, ?it/s]\u001b[A\n",
      "  1%|          | 16384/1648877 [00:01<01:01, 26673.40it/s]\u001b[A\n",
      "  2%|▏         | 40960/1648877 [00:02<00:49, 32622.40it/s]\u001b[A\n",
      "  4%|▍         | 73728/1648877 [00:02<00:39, 39929.52it/s]\u001b[A\n",
      "  6%|▌         | 98304/1648877 [00:03<00:36, 42852.30it/s]\u001b[A\n",
      " 10%|█         | 172032/1648877 [00:03<00:27, 53085.88it/s]\u001b[A\n",
      " 12%|█▏        | 196608/1648877 [00:04<00:26, 54997.78it/s]\u001b[A\n",
      " 13%|█▎        | 221184/1648877 [00:04<00:28, 49450.94it/s]\u001b[A\n",
      " 15%|█▍        | 245760/1648877 [00:05<00:30, 46110.31it/s]\u001b[A\n",
      " 17%|█▋        | 278528/1648877 [00:05<00:28, 48107.61it/s]\u001b[A\n",
      " 18%|█▊        | 294912/1648877 [00:06<00:34, 38744.82it/s]\u001b[A\n",
      " 20%|█▉        | 327680/1648877 [00:07<00:32, 40884.45it/s]\u001b[A\n",
      " 21%|██        | 344064/1648877 [00:07<00:33, 39425.41it/s]\u001b[A\n",
      " 22%|██▏       | 368640/1648877 [00:08<00:30, 41328.02it/s]\u001b[A\n",
      " 23%|██▎       | 385024/1648877 [00:08<00:36, 34473.78it/s]\u001b[A\n",
      " 25%|██▍       | 409600/1648877 [00:09<00:32, 37553.86it/s]\u001b[A\n",
      " 25%|██▌       | 417792/1648877 [00:10<01:08, 18061.63it/s]\u001b[A\n",
      " 27%|██▋       | 450560/1648877 [00:10<00:50, 23882.07it/s]\u001b[A\n",
      " 28%|██▊       | 458752/1648877 [00:11<00:57, 20795.27it/s]\u001b[A\n",
      " 29%|██▉       | 483328/1648877 [00:11<00:47, 24453.93it/s]\u001b[A\n",
      " 30%|███       | 499712/1648877 [00:12<00:44, 26102.59it/s]\u001b[A\n",
      " 31%|███▏      | 516096/1648877 [00:12<00:42, 26634.45it/s]\u001b[A\n",
      " 32%|███▏      | 524288/1648877 [00:13<00:54, 20483.23it/s]\u001b[A\n",
      "9920512it [07:00, 658971.15it/s]                             A\n",
      " 33%|███▎      | 540672/1648877 [00:14<00:57, 19227.45it/s]\u001b[A\n",
      " 33%|███▎      | 548864/1648877 [00:14<00:53, 20403.44it/s]\u001b[A\n",
      " 34%|███▍      | 557056/1648877 [00:15<01:04, 16874.94it/s]\u001b[A\n",
      " 34%|███▍      | 565248/1648877 [00:16<01:09, 15634.68it/s]\u001b[A\n",
      " 35%|███▍      | 573440/1648877 [00:16<01:12, 14865.37it/s]\u001b[A\n",
      " 36%|███▌      | 589824/1648877 [00:17<01:05, 16106.67it/s]\u001b[A\n",
      " 37%|███▋      | 614400/1648877 [00:18<00:52, 19602.72it/s]\u001b[A\n",
      " 39%|███▉      | 647168/1648877 [00:18<00:41, 24206.51it/s]\u001b[A\n",
      " 41%|████      | 671744/1648877 [00:19<00:35, 27451.52it/s]\u001b[A\n",
      " 42%|████▏     | 688128/1648877 [00:20<00:35, 27240.19it/s]\u001b[A\n",
      " 44%|████▎     | 720896/1648877 [00:20<00:29, 31925.22it/s]\u001b[A\n",
      " 44%|████▍     | 729088/1648877 [00:21<00:40, 22496.92it/s]\u001b[A\n",
      " 45%|████▌     | 745472/1648877 [00:21<00:38, 23613.53it/s]\u001b[A\n",
      " 46%|████▌     | 761856/1648877 [00:22<00:31, 27916.22it/s]\u001b[A\n",
      " 47%|████▋     | 778240/1648877 [00:22<00:27, 31936.37it/s]\u001b[A\n",
      " 48%|████▊     | 794624/1648877 [00:23<00:33, 25313.48it/s]\u001b[A\n",
      " 49%|████▉     | 811008/1648877 [00:24<00:32, 25708.10it/s]\u001b[A\n",
      " 50%|█████     | 827392/1648877 [00:24<00:28, 28367.43it/s]\u001b[A\n",
      " 51%|█████     | 843776/1648877 [00:25<00:37, 21430.61it/s]\u001b[A\n",
      " 52%|█████▏    | 860160/1648877 [00:26<00:34, 22772.65it/s]\u001b[A\n",
      " 53%|█████▎    | 868352/1648877 [00:27<00:47, 16466.09it/s]\u001b[A\n",
      " 54%|█████▎    | 884736/1648877 [00:28<00:43, 17384.74it/s]\u001b[A\n",
      " 54%|█████▍    | 892928/1648877 [00:29<01:15, 9975.09it/s] \u001b[A\n",
      " 56%|█████▌    | 917504/1648877 [00:30<00:56, 12874.06it/s]\u001b[A\n",
      " 56%|█████▌    | 925696/1648877 [00:30<00:48, 14951.93it/s]\u001b[A\n",
      " 57%|█████▋    | 942080/1648877 [00:30<00:37, 18859.20it/s]\u001b[A\n",
      " 58%|█████▊    | 950272/1648877 [00:31<00:50, 13854.17it/s]\u001b[A\n",
      " 59%|█████▉    | 974848/1648877 [00:32<00:38, 17389.62it/s]\u001b[A\n",
      " 60%|█████▉    | 983040/1648877 [00:33<00:57, 11599.32it/s]\u001b[A\n",
      " 61%|██████    | 999424/1648877 [00:35<00:56, 11501.76it/s]\u001b[A\n",
      " 62%|██████▏   | 1015808/1648877 [00:36<00:52, 12001.52it/s]\u001b[A\n",
      " 62%|██████▏   | 1024000/1648877 [00:37<00:50, 12371.74it/s]\u001b[A\n",
      " 63%|██████▎   | 1032192/1648877 [00:38<01:02, 9844.75it/s] \u001b[A\n",
      " 63%|██████▎   | 1040384/1648877 [00:38<00:52, 11615.05it/s]\u001b[A\n",
      " 64%|██████▎   | 1048576/1648877 [00:39<01:03, 9498.65it/s] \u001b[A\n",
      " 64%|██████▍   | 1056768/1648877 [00:40<01:04, 9122.86it/s]\u001b[A\n",
      " 65%|██████▍   | 1064960/1648877 [00:41<00:52, 11171.87it/s]\u001b[A\n",
      " 65%|██████▌   | 1073152/1648877 [00:42<00:59, 9618.85it/s] \u001b[A\n",
      " 66%|██████▌   | 1081344/1648877 [00:42<00:48, 11729.30it/s]\u001b[A\n",
      " 66%|██████▌   | 1089536/1648877 [00:43<00:58, 9547.97it/s] \u001b[A\n",
      " 67%|██████▋   | 1097728/1648877 [00:45<01:10, 7795.94it/s]\u001b[A\n",
      " 67%|██████▋   | 1105920/1648877 [00:46<01:00, 8906.40it/s]\u001b[A\n",
      " 68%|██████▊   | 1114112/1648877 [00:47<01:06, 8090.84it/s]\u001b[A\n",
      " 68%|██████▊   | 1122304/1648877 [00:47<00:57, 9172.43it/s]\u001b[A\n",
      " 69%|██████▊   | 1130496/1648877 [00:48<00:51, 10118.62it/s]\u001b[A\n",
      " 69%|██████▉   | 1138688/1648877 [00:48<00:42, 11877.95it/s]\u001b[A\n",
      " 70%|██████▉   | 1146880/1648877 [00:50<00:52, 9625.13it/s] \u001b[A\n",
      " 70%|███████   | 1155072/1648877 [00:50<00:42, 11710.92it/s]\u001b[A\n",
      " 71%|███████   | 1163264/1648877 [00:52<00:55, 8723.21it/s] \u001b[A\n",
      " 71%|███████   | 1171456/1648877 [00:52<00:48, 9836.48it/s]\u001b[A\n",
      " 72%|███████▏  | 1179648/1648877 [00:53<00:46, 10199.79it/s]\u001b[A\n",
      " 73%|███████▎  | 1196032/1648877 [00:54<00:43, 10312.45it/s]\u001b[A\n",
      " 74%|███████▎  | 1212416/1648877 [00:55<00:35, 12397.30it/s]\u001b[A\n",
      " 75%|███████▍  | 1228800/1648877 [00:56<00:30, 13789.67it/s]\u001b[A\n",
      " 75%|███████▌  | 1236992/1648877 [00:56<00:25, 15877.53it/s]\u001b[A\n",
      " 76%|███████▌  | 1245184/1648877 [00:58<00:38, 10613.78it/s]\u001b[A\n",
      " 76%|███████▌  | 1253376/1648877 [00:58<00:34, 11310.71it/s]\u001b[A\n",
      " 77%|███████▋  | 1261568/1648877 [01:00<00:43, 8962.66it/s] \u001b[A\n",
      " 77%|███████▋  | 1269760/1648877 [01:01<00:42, 9016.13it/s]\u001b[A\n",
      " 78%|███████▊  | 1277952/1648877 [01:02<00:42, 8713.96it/s]\u001b[A\n",
      " 78%|███████▊  | 1286144/1648877 [01:03<00:45, 7953.16it/s]\u001b[A\n",
      " 78%|███████▊  | 1294336/1648877 [01:04<00:41, 8472.54it/s]\u001b[A\n",
      " 79%|███████▉  | 1302528/1648877 [01:04<00:33, 10245.22it/s]\u001b[A\n",
      " 79%|███████▉  | 1310720/1648877 [01:05<00:30, 11001.24it/s]\u001b[A\n",
      " 80%|███████▉  | 1318912/1648877 [01:05<00:30, 10680.77it/s]\u001b[A\n",
      " 80%|████████  | 1327104/1648877 [01:06<00:28, 11397.56it/s]\u001b[A\n",
      " 81%|████████▏ | 1343488/1648877 [01:07<00:22, 13738.40it/s]\u001b[A\n",
      " 82%|████████▏ | 1351680/1648877 [01:07<00:21, 13694.54it/s]\u001b[A\n",
      " 83%|████████▎ | 1368064/1648877 [01:08<00:18, 14812.71it/s]\u001b[A\n",
      " 84%|████████▍ | 1384448/1648877 [01:08<00:14, 18759.72it/s]\u001b[A\n",
      " 84%|████████▍ | 1392640/1648877 [01:09<00:15, 16459.30it/s]\u001b[A\n",
      " 85%|████████▌ | 1409024/1648877 [01:09<00:11, 21574.46it/s]\u001b[A\n",
      " 86%|████████▌ | 1417216/1648877 [01:09<00:08, 26281.25it/s]\u001b[A\n",
      " 86%|████████▋ | 1425408/1648877 [01:10<00:08, 25596.49it/s]\u001b[A\n",
      " 87%|████████▋ | 1433600/1648877 [01:10<00:11, 19347.26it/s]\u001b[A\n",
      " 88%|████████▊ | 1449984/1648877 [01:11<00:09, 21885.13it/s]\u001b[A\n",
      " 88%|████████▊ | 1458176/1648877 [01:11<00:08, 22243.73it/s]\u001b[A\n",
      " 89%|████████▉ | 1466368/1648877 [01:12<00:09, 18502.52it/s]\u001b[A\n",
      " 89%|████████▉ | 1474560/1648877 [01:12<00:09, 18927.32it/s]\u001b[A\n",
      " 90%|████████▉ | 1482752/1648877 [01:13<00:09, 16799.68it/s]\u001b[A\n",
      " 91%|█████████ | 1499136/1648877 [01:14<00:07, 19070.45it/s]\u001b[A\n",
      " 91%|█████████▏| 1507328/1648877 [01:15<00:10, 13682.43it/s]\u001b[A\n",
      " 92%|█████████▏| 1515520/1648877 [01:15<00:08, 15671.63it/s]\u001b[A\n",
      " 92%|█████████▏| 1523712/1648877 [01:16<00:11, 10631.71it/s]\u001b[A\n",
      " 93%|█████████▎| 1531904/1648877 [01:17<00:10, 11318.65it/s]\u001b[A\n",
      " 93%|█████████▎| 1540096/1648877 [01:17<00:08, 12652.74it/s]\u001b[A\n",
      " 94%|█████████▍| 1548288/1648877 [01:19<00:10, 9464.80it/s] \u001b[A\n",
      " 95%|█████████▍| 1564672/1648877 [01:19<00:07, 11737.65it/s]\u001b[A\n",
      " 95%|█████████▌| 1572864/1648877 [01:20<00:06, 12174.95it/s]\u001b[A\n",
      " 96%|█████████▋| 1589248/1648877 [01:20<00:03, 15387.68it/s]\u001b[A\n",
      " 97%|█████████▋| 1597440/1648877 [01:21<00:03, 14707.37it/s]\u001b[A\n",
      " 98%|█████████▊| 1613824/1648877 [01:22<00:02, 16989.74it/s]\u001b[A\n",
      " 99%|█████████▉| 1630208/1648877 [01:22<00:00, 19431.54it/s]\u001b[A\n",
      " 99%|█████████▉| 1638400/1648877 [01:23<00:00, 18854.37it/s]\u001b[A\n",
      "\n",
      "0it [00:00, ?it/s]\u001b[A\u001b[A"
     ]
    },
    {
     "name": "stdout",
     "output_type": "stream",
     "text": [
      "Extracting /Users/frozenfire/.pytorch/MNIST_data/MNIST/raw/t10k-images-idx3-ubyte.gz\n",
      "Downloading http://yann.lecun.com/exdb/mnist/t10k-labels-idx1-ubyte.gz to /Users/frozenfire/.pytorch/MNIST_data/MNIST/raw/t10k-labels-idx1-ubyte.gz\n"
     ]
    },
    {
     "name": "stderr",
     "output_type": "stream",
     "text": [
      "\n",
      "\n",
      "  0%|          | 0/4542 [00:01<?, ?it/s]\u001b[A\u001b[A\n",
      "\n",
      "8192it [00:01, 17232.60it/s]            \u001b[A\u001b[A"
     ]
    },
    {
     "name": "stdout",
     "output_type": "stream",
     "text": [
      "Extracting /Users/frozenfire/.pytorch/MNIST_data/MNIST/raw/t10k-labels-idx1-ubyte.gz\n",
      "Processing...\n",
      "Done!\n"
     ]
    }
   ],
   "source": [
    "### Run this cell\n",
    "\n",
    "from torchvision import datasets, transforms\n",
    "\n",
    "# Define a transform to normalize the data\n",
    "transform = transforms.Compose([transforms.ToTensor(),\n",
    "                              transforms.Normalize((0.5,), (0.5,)),\n",
    "                              ])\n",
    "\n",
    "# Download and load the training data\n",
    "trainset = datasets.MNIST('~/.pytorch/MNIST_data/', download=True, train=True, transform=transform)\n",
    "trainloader = torch.utils.data.DataLoader(trainset, batch_size=64, shuffle=True)"
   ]
  },
  {
   "cell_type": "markdown",
   "metadata": {},
   "source": [
    "We have the training data loaded into `trainloader` and we make that an iterator with `iter(trainloader)`. Later, we'll use this to loop through the dataset for training, like\n",
    "\n",
    "```python\n",
    "for image, label in trainloader:\n",
    "    ## do things with images and labels\n",
    "```\n",
    "\n",
    "You'll notice I created the `trainloader` with a batch size of 64, and `shuffle=True`. The batch size is the number of images we get in one iteration from the data loader and pass through our network, often called a *batch*. And `shuffle=True` tells it to shuffle the dataset every time we start going through the data loader again. But here I'm just grabbing the first batch so we can check out the data. We can see below that `images` is just a tensor with size `(64, 1, 28, 28)`. So, 64 images per batch, 1 color channel, and 28x28 images."
   ]
  },
  {
   "cell_type": "code",
   "execution_count": 32,
   "metadata": {},
   "outputs": [
    {
     "name": "stdout",
     "output_type": "stream",
     "text": [
      "<class 'torch.Tensor'>\n",
      "torch.Size([64, 1, 28, 28])\n",
      "torch.Size([64])\n"
     ]
    }
   ],
   "source": [
    "dataiter = iter(trainloader)\n",
    "images, labels = dataiter.next()\n",
    "print(type(images))\n",
    "print(images.shape)\n",
    "print(labels.shape)"
   ]
  },
  {
   "cell_type": "markdown",
   "metadata": {},
   "source": [
    "This is what one of the images looks like. "
   ]
  },
  {
   "cell_type": "code",
   "execution_count": 33,
   "metadata": {},
   "outputs": [
    {
     "data": {
      "image/png": "[encoded data removed]",
      "text/plain": [
       "<Figure size 432x288 with 1 Axes>"
      ]
     },
     "metadata": {
      "image/png": {
       "height": 250,
       "width": 253
      },
      "needs_background": "light"
     },
     "output_type": "display_data"
    }
   ],
   "source": [
    "plt.imshow(images[1].numpy().squeeze(), cmap='Greys_r');"
   ]
  },
  {
   "cell_type": "markdown",
   "metadata": {},
   "source": [
    "First, let's try to build a simple network for this dataset using weight matrices and matrix multiplications. Then, we'll see how to do it using PyTorch's `nn` module which provides a much more convenient and powerful method for defining network architectures.\n",
    "\n",
    "The networks you've seen so far are called *fully-connected* or *dense* networks. Each unit in one layer is connected to each unit in the next layer. In fully-connected networks, the input to each layer must be a one-dimensional vector (which can be stacked into a 2D tensor as a batch of multiple examples). However, our images are 28x28 2D tensors, so we need to convert them into 1D vectors. Thinking about sizes, we need to convert the batch of images with shape `(64, 1, 28, 28)` to a have a shape of `(64, 784)`, 784 is 28 times 28. This is typically called *flattening*, we flattened the 2D images into 1D vectors.\n",
    "\n",
    "Previously you built a network with one output unit. Here we need 10 output units, one for each digit. We want our network to predict the digit shown in an image, so what we'll do is calculate probabilities that the image is of any one digit or class. This ends up being a discrete probability distribution over the classes (digits) that tells us the most likely class for the image. That means we need 10 output units for the 10 classes (digits). We'll see how to convert the network output into a probability distribution next.\n",
    "\n",
    "> **Exercise:** Flatten the batch of images `images`. Then build a multi-layer network with 784 input units, 256 hidden units, and 10 output units using random tensors for the weights and biases. For now, use a sigmoid activation for the hidden layer. Leave the output layer without an activation, we'll add one that gives us a probability distribution next."
   ]
  },
  {
   "cell_type": "code",
   "execution_count": 39,
   "metadata": {},
   "outputs": [],
   "source": [
    "## Your solution\n",
    "def activation(x):\n",
    "    return 1/(1+torch.exp(-x))\n",
    "\n",
    "flatten = images.view(64,784)\n",
    "w1 = torch.randn(784,256)\n",
    "w2 = torch.randn(256,10)\n",
    "\n",
    "bias1 = torch.randn(256)\n",
    "bias2 = torch.randn(10)\n",
    " \n",
    "hidden_layer = activation(torch.mm(flatten,w1)+bias1)\n",
    "out = torch.mm(hidden_layer,w2)+bias2"
   ]
  },
  {
   "cell_type": "markdown",
   "metadata": {},
   "source": [
    "Now we have 10 outputs for our network. We want to pass in an image to our network and get out a probability distribution over the classes that tells us the likely class(es) the image belongs to. Something that looks like this:\n",
    "<img src='assets/image_distribution.png' width=500px>\n",
    "\n",
    "Here we see that the probability for each class is roughly the same. This is representing an untrained network, it hasn't seen any data yet so it just returns a uniform distribution with equal probabilities for each class.\n",
    "\n",
    "To calculate this probability distribution, we often use the [**softmax** function](https://en.wikipedia.org/wiki/Softmax_function). Mathematically this looks like\n",
    "\n",
    "$$\n",
    "\\Large \\sigma(x_i) = \\cfrac{e^{x_i}}{\\sum_k^K{e^{x_k}}}\n",
    "$$\n",
    "\n",
    "What this does is squish each input $x_i$ between 0 and 1 and normalizes the values to give you a proper probability distribution where the probabilites sum up to one.\n",
    "\n",
    "> **Exercise:** Implement a function `softmax` that performs the softmax calculation and returns probability distributions for each example in the batch. Note that you'll need to pay attention to the shapes when doing this. If you have a tensor `a` with shape `(64, 10)` and a tensor `b` with shape `(64,)`, doing `a/b` will give you an error because PyTorch will try to do the division across the columns (called broadcasting) but you'll get a size mismatch. The way to think about this is for each of the 64 examples, you only want to divide by one value, the sum in the denominator. So you need `b` to have a shape of `(64, 1)`. This way PyTorch will divide the 10 values in each row of `a` by the one value in each row of `b`. Pay attention to how you take the sum as well. You'll need to define the `dim` keyword in `torch.sum`. Setting `dim=0` takes the sum across the rows while `dim=1` takes the sum across the columns."
   ]
  },
  {
   "cell_type": "code",
   "execution_count": 42,
   "metadata": {},
   "outputs": [
    {
     "name": "stdout",
     "output_type": "stream",
     "text": [
      "torch.Size([64, 10])\n",
      "tensor([1.0000, 1.0000, 1.0000, 1.0000, 1.0000, 1.0000, 1.0000, 1.0000, 1.0000,\n",
      "        1.0000, 1.0000, 1.0000, 1.0000, 1.0000, 1.0000, 1.0000, 1.0000, 1.0000,\n",
      "        1.0000, 1.0000, 1.0000, 1.0000, 1.0000, 1.0000, 1.0000, 1.0000, 1.0000,\n",
      "        1.0000, 1.0000, 1.0000, 1.0000, 1.0000, 1.0000, 1.0000, 1.0000, 1.0000,\n",
      "        1.0000, 1.0000, 1.0000, 1.0000, 1.0000, 1.0000, 1.0000, 1.0000, 1.0000,\n",
      "        1.0000, 1.0000, 1.0000, 1.0000, 1.0000, 1.0000, 1.0000, 1.0000, 1.0000,\n",
      "        1.0000, 1.0000, 1.0000, 1.0000, 1.0000, 1.0000, 1.0000, 1.0000, 1.0000,\n",
      "        1.0000])\n"
     ]
    }
   ],
   "source": [
    "def softmax(x):\n",
    "    ## TODO: Implement the softmax function here\n",
    "    return torch.exp(x)/torch.sum(torch.exp(x),dim=1).view(-1,1)\n",
    "\n",
    "# Here, out should be the output of the network in the previous excercise with shape (64,10)\n",
    "probabilities = softmax(out)\n",
    "\n",
    "# Does it have the right shape? Should be (64, 10)\n",
    "print(probabilities.shape)\n",
    "# Does it sum to 1?\n",
    "print(probabilities.sum(dim=1))"
   ]
  },
  {
   "cell_type": "markdown",
   "metadata": {},
   "source": [
    "## Building networks with PyTorch\n",
    "\n",
    "PyTorch provides a module `nn` that makes building networks much simpler. Here I'll show you how to build the same one as above with 784 inputs, 256 hidden units, 10 output units and a softmax output."
   ]
  },
  {
   "cell_type": "code",
   "execution_count": 44,
   "metadata": {},
   "outputs": [],
   "source": [
    "from torch import nn"
   ]
  },
  {
   "cell_type": "code",
   "execution_count": 65,
   "metadata": {},
   "outputs": [],
   "source": [
    "class Network(nn.Module):\n",
    "    def __init__(self):\n",
    "        super().__init__()\n",
    "        \n",
    "        # Inputs to hidden layer linear transformation\n",
    "        self.hidden = nn.Linear(784, 256)\n",
    "        # Output layer, 10 units - one for each digit\n",
    "        self.output = nn.Linear(256, 10)\n",
    "        \n",
    "        # Define sigmoid activation and softmax output \n",
    "        self.sigmoid = nn.Sigmoid()\n",
    "        self.softmax = nn.Softmax(dim=1)\n",
    "        \n",
    "    def forward(self, x):\n",
    "        # Pass the input tensor through each of our operations\n",
    "        x = self.hidden(x)\n",
    "        x = self.sigmoid(x)\n",
    "        x = self.output(x)\n",
    "        x = self.softmax(x)\n",
    "        \n",
    "        return x"
   ]
  },
  {
   "cell_type": "markdown",
   "metadata": {},
   "source": [
    "Let's go through this bit by bit.\n",
    "\n",
    "```python\n",
    "class Network(nn.Module):\n",
    "```\n",
    "\n",
    "Here we're inheriting from `nn.Module`. Combined with `super().__init__()` this creates a class that tracks the architecture and provides a lot of useful methods and attributes. It is mandatory to inherit from `nn.Module` when you're creating a class for your network. The name of the class itself can be anything.\n",
    "\n",
    "```python\n",
    "self.hidden = nn.Linear(784, 256)\n",
    "```\n",
    "\n",
    "This line creates a module for a linear transformation, $x\\mathbf{W} + b$, with 784 inputs and 256 outputs and assigns it to `self.hidden`. The module automatically creates the weight and bias tensors which we'll use in the `forward` method. You can access the weight and bias tensors once the network (`net`) is created with `net.hidden.weight` and `net.hidden.bias`.\n",
    "\n",
    "```python\n",
    "self.output = nn.Linear(256, 10)\n",
    "```\n",
    "\n",
    "Similarly, this creates another linear transformation with 256 inputs and 10 outputs.\n",
    "\n",
    "```python\n",
    "self.sigmoid = nn.Sigmoid()\n",
    "self.softmax = nn.Softmax(dim=1)\n",
    "```\n",
    "\n",
    "Here I defined operations for the sigmoid activation and softmax output. Setting `dim=1` in `nn.Softmax(dim=1)` calculates softmax across the columns.\n",
    "\n",
    "```python\n",
    "def forward(self, x):\n",
    "```\n",
    "\n",
    "PyTorch networks created with `nn.Module` must have a `forward` method defined. It takes in a tensor `x` and passes it through the operations you defined in the `__init__` method.\n",
    "\n",
    "```python\n",
    "x = self.hidden(x)\n",
    "x = self.sigmoid(x)\n",
    "x = self.output(x)\n",
    "x = self.softmax(x)\n",
    "```\n",
    "\n",
    "Here the input tensor `x` is passed through each operation and reassigned to `x`. We can see that the input tensor goes through the hidden layer, then a sigmoid function, then the output layer, and finally the softmax function. It doesn't matter what you name the variables here, as long as the inputs and outputs of the operations match the network architecture you want to build. The order in which you define things in the `__init__` method doesn't matter, but you'll need to sequence the operations correctly in the `forward` method.\n",
    "\n",
    "Now we can create a `Network` object."
   ]
  },
  {
   "cell_type": "code",
   "execution_count": 66,
   "metadata": {},
   "outputs": [
    {
     "data": {
      "text/plain": [
       "Network(\n",
       "  (hidden): Linear(in_features=784, out_features=256, bias=True)\n",
       "  (output): Linear(in_features=256, out_features=10, bias=True)\n",
       "  (sigmoid): Sigmoid()\n",
       "  (softmax): Softmax()\n",
       ")"
      ]
     },
     "execution_count": 66,
     "metadata": {},
     "output_type": "execute_result"
    }
   ],
   "source": [
    "# Create the network and look at it's text representation\n",
    "model = Network()\n",
    "model"
   ]
  },
  {
   "cell_type": "markdown",
   "metadata": {},
   "source": [
    "You can define the network somewhat more concisely and clearly using the `torch.nn.functional` module. This is the most common way you'll see networks defined as many operations are simple element-wise functions. We normally import this module as `F`, `import torch.nn.functional as F`."
   ]
  },
  {
   "cell_type": "code",
   "execution_count": 67,
   "metadata": {},
   "outputs": [],
   "source": [
    "import torch.nn.functional as F\n",
    "\n",
    "class Network(nn.Module):\n",
    "    def __init__(self):\n",
    "        super().__init__()\n",
    "        # Inputs to hidden layer linear transformation\n",
    "        self.hidden = nn.Linear(784, 256)\n",
    "        # Output layer, 10 units - one for each digit\n",
    "        self.output = nn.Linear(256, 10)\n",
    "        \n",
    "    def forward(self, x):\n",
    "        # Hidden layer with sigmoid activation\n",
    "        x = F.sigmoid(self.hidden(x))\n",
    "        # Output layer with softmax activation\n",
    "        x = F.softmax(self.output(x), dim=1)\n",
    "        \n",
    "        return x"
   ]
  },
  {
   "cell_type": "markdown",
   "metadata": {},
   "source": [
    "### Activation functions\n",
    "\n",
    "So far we've only been looking at the sigmoid activation function, but in general any function can be used as an activation function. The only requirement is that for a network to approximate a non-linear function, the activation functions must be non-linear. Here are a few more examples of common activation functions: Tanh (hyperbolic tangent), and ReLU (rectified linear unit).\n",
    "\n",
    "<img src=\"assets/activation.png\" width=700px>\n",
    "\n",
    "In practice, the ReLU function is used almost exclusively as the activation function for hidden layers."
   ]
  },
  {
   "cell_type": "markdown",
   "metadata": {},
   "source": [
    "### Your Turn to Build a Network\n",
    "\n",
    "<img src=\"assets/mlp_mnist.png\" width=600px>\n",
    "\n",
    "> **Exercise:** Create a network with 784 input units, a hidden layer with 128 units and a ReLU activation, then a hidden layer with 64 units and a ReLU activation, and finally an output layer with a softmax activation as shown above. You can use a ReLU activation with the `nn.ReLU` module or `F.relu` function.\n",
    "\n",
    "It's good practice to name your layers by their type of network, for instance 'fc' to represent a fully-connected layer. As you code your solution, use `fc1`, `fc2`, and `fc3` as your layer names."
   ]
  },
  {
   "cell_type": "code",
   "execution_count": 71,
   "metadata": {
    "scrolled": true
   },
   "outputs": [
    {
     "data": {
      "text/plain": [
       "fc(\n",
       "  (fc1): Linear(in_features=784, out_features=128, bias=True)\n",
       "  (fc2): Linear(in_features=128, out_features=64, bias=True)\n",
       "  (fc3): Linear(in_features=64, out_features=10, bias=True)\n",
       ")"
      ]
     },
     "execution_count": 71,
     "metadata": {},
     "output_type": "execute_result"
    }
   ],
   "source": [
    "## Your solution here\n",
    "\n",
    "import torch.nn.functional as F\n",
    "\n",
    "class fc(nn.Module):\n",
    "    def __init__(self):\n",
    "        super().__init__()\n",
    "        \n",
    "        self.fc1 = nn.Linear(784,128)\n",
    "        self.fc2 = nn.Linear(128,64)\n",
    "        self.fc3 = nn.Linear(64,10)\n",
    "        \n",
    "    def forward(self,x):\n",
    "        x = self.fc1(x)\n",
    "        x = F.relu(x)\n",
    "        x = self.fc2(x)\n",
    "        x = F.relu(x)\n",
    "        x = self.fc3(x)\n",
    "        x = F.softmax(x,dim =1)\n",
    "        \n",
    "        return x\n",
    "model = fc()\n",
    "model"
   ]
  },
  {
   "cell_type": "markdown",
   "metadata": {},
   "source": [
    "### Initializing weights and biases\n",
    "\n",
    "The weights and such are automatically initialized for you, but it's possible to customize how they are initialized. The weights and biases are tensors attached to the layer you defined, you can get them with `model.fc1.weight` for instance."
   ]
  },
  {
   "cell_type": "code",
   "execution_count": 72,
   "metadata": {},
   "outputs": [
    {
     "name": "stdout",
     "output_type": "stream",
     "text": [
      "Parameter containing:\n",
      "tensor([[-0.0149,  0.0155,  0.0164,  ..., -0.0057, -0.0007,  0.0308],\n",
      "        [-0.0147,  0.0323,  0.0156,  ...,  0.0249,  0.0296,  0.0074],\n",
      "        [ 0.0304, -0.0200, -0.0224,  ..., -0.0175,  0.0043, -0.0065],\n",
      "        ...,\n",
      "        [-0.0351, -0.0168, -0.0308,  ...,  0.0004, -0.0194, -0.0038],\n",
      "        [ 0.0071, -0.0229, -0.0138,  ...,  0.0197, -0.0002, -0.0159],\n",
      "        [-0.0315, -0.0046, -0.0338,  ..., -0.0002, -0.0246, -0.0309]],\n",
      "       requires_grad=True)\n",
      "Parameter containing:\n",
      "tensor([-0.0004, -0.0025,  0.0310, -0.0172,  0.0335,  0.0048, -0.0030, -0.0311,\n",
      "         0.0353, -0.0077,  0.0346, -0.0048,  0.0060,  0.0022, -0.0090, -0.0309,\n",
      "         0.0055, -0.0348, -0.0219, -0.0068, -0.0234,  0.0117, -0.0188, -0.0298,\n",
      "         0.0146, -0.0188,  0.0238,  0.0209,  0.0240,  0.0014,  0.0054,  0.0146,\n",
      "        -0.0282, -0.0100,  0.0306, -0.0346,  0.0198, -0.0038,  0.0316, -0.0001,\n",
      "        -0.0117, -0.0035,  0.0116, -0.0157,  0.0111, -0.0098, -0.0220,  0.0065,\n",
      "         0.0247,  0.0164,  0.0105, -0.0068, -0.0207,  0.0062,  0.0184,  0.0059,\n",
      "        -0.0052, -0.0227,  0.0297, -0.0341,  0.0037,  0.0124,  0.0301,  0.0203,\n",
      "         0.0330, -0.0335, -0.0263, -0.0053, -0.0253,  0.0225,  0.0281, -0.0173,\n",
      "         0.0218, -0.0197,  0.0270, -0.0079,  0.0178, -0.0203, -0.0306,  0.0099,\n",
      "        -0.0244, -0.0256, -0.0221, -0.0310, -0.0204, -0.0026, -0.0053, -0.0003,\n",
      "         0.0254,  0.0201, -0.0219, -0.0235, -0.0357, -0.0066, -0.0277,  0.0210,\n",
      "         0.0301, -0.0202,  0.0106, -0.0288, -0.0179, -0.0097, -0.0314,  0.0116,\n",
      "        -0.0152, -0.0235,  0.0255,  0.0222,  0.0235,  0.0043, -0.0031,  0.0131,\n",
      "         0.0321, -0.0024,  0.0139, -0.0024, -0.0010, -0.0073, -0.0209, -0.0165,\n",
      "         0.0242,  0.0356,  0.0174,  0.0290, -0.0163,  0.0142,  0.0027, -0.0302],\n",
      "       requires_grad=True)\n"
     ]
    }
   ],
   "source": [
    "print(model.fc1.weight)\n",
    "print(model.fc1.bias)"
   ]
  },
  {
   "cell_type": "markdown",
   "metadata": {},
   "source": [
    "For custom initialization, we want to modify these tensors in place. These are actually autograd *Variables*, so we need to get back the actual tensors with `model.fc1.weight.data`. Once we have the tensors, we can fill them with zeros (for biases) or random normal values."
   ]
  },
  {
   "cell_type": "code",
   "execution_count": 73,
   "metadata": {},
   "outputs": [
    {
     "data": {
      "text/plain": [
       "tensor([0., 0., 0., 0., 0., 0., 0., 0., 0., 0., 0., 0., 0., 0., 0., 0., 0., 0., 0., 0., 0., 0., 0., 0.,\n",
       "        0., 0., 0., 0., 0., 0., 0., 0., 0., 0., 0., 0., 0., 0., 0., 0., 0., 0., 0., 0., 0., 0., 0., 0.,\n",
       "        0., 0., 0., 0., 0., 0., 0., 0., 0., 0., 0., 0., 0., 0., 0., 0., 0., 0., 0., 0., 0., 0., 0., 0.,\n",
       "        0., 0., 0., 0., 0., 0., 0., 0., 0., 0., 0., 0., 0., 0., 0., 0., 0., 0., 0., 0., 0., 0., 0., 0.,\n",
       "        0., 0., 0., 0., 0., 0., 0., 0., 0., 0., 0., 0., 0., 0., 0., 0., 0., 0., 0., 0., 0., 0., 0., 0.,\n",
       "        0., 0., 0., 0., 0., 0., 0., 0.])"
      ]
     },
     "execution_count": 73,
     "metadata": {},
     "output_type": "execute_result"
    }
   ],
   "source": [
    "# Set biases to all zeros\n",
    "model.fc1.bias.data.fill_(0)"
   ]
  },
  {
   "cell_type": "code",
   "execution_count": 74,
   "metadata": {},
   "outputs": [
    {
     "data": {
      "text/plain": [
       "tensor([[ 0.0015, -0.0036, -0.0043,  ...,  0.0038, -0.0007, -0.0049],\n",
       "        [-0.0020,  0.0063, -0.0170,  ...,  0.0015, -0.0029, -0.0177],\n",
       "        [-0.0085, -0.0217,  0.0008,  ..., -0.0077,  0.0087, -0.0049],\n",
       "        ...,\n",
       "        [ 0.0040,  0.0116,  0.0197,  ..., -0.0087,  0.0352, -0.0016],\n",
       "        [-0.0014,  0.0020, -0.0062,  ...,  0.0087,  0.0044, -0.0022],\n",
       "        [-0.0128,  0.0059, -0.0163,  ..., -0.0050,  0.0066, -0.0011]])"
      ]
     },
     "execution_count": 74,
     "metadata": {},
     "output_type": "execute_result"
    }
   ],
   "source": [
    "# sample from random normal with standard dev = 0.01\n",
    "model.fc1.weight.data.normal_(std=0.01)"
   ]
  },
  {
   "cell_type": "markdown",
   "metadata": {},
   "source": [
    "### Forward pass\n",
    "\n",
    "Now that we have a network, let's see what happens when we pass in an image."
   ]
  },
  {
   "cell_type": "code",
   "execution_count": 76,
   "metadata": {},
   "outputs": [
    {
     "data": {
      "image/png": "[encoded data removed]",
      "text/plain": [
       "<Figure size 432x648 with 2 Axes>"
      ]
     },
     "metadata": {
      "image/png": {
       "height": 226,
       "width": 423
      },
      "needs_background": "light"
     },
     "output_type": "display_data"
    }
   ],
   "source": [
    "# Grab some data \n",
    "dataiter = iter(trainloader)\n",
    "images, labels = dataiter.next()\n",
    "\n",
    "# Resize images into a 1D vector, new shape is (batch size, color channels, image pixels) \n",
    "images.resize_(64, 1, 784)\n",
    "# or images.resize_(images.shape[0], 1, 784) to automatically get batch size\n",
    "\n",
    "# Forward pass through the network\n",
    "img_idx = 0\n",
    "ps = model.forward(images[img_idx,:])\n",
    "\n",
    "img = images[img_idx]\n",
    "helper.view_classify(img.view(1, 28, 28), ps)"
   ]
  },
  {
   "cell_type": "markdown",
   "metadata": {},
   "source": [
    "As you can see above, our network has basically no idea what this digit is. It's because we haven't trained it yet, all the weights are random!\n",
    "\n",
    "### Using `nn.Sequential`\n",
    "\n",
    "PyTorch provides a convenient way to build networks like this where a tensor is passed sequentially through operations, `nn.Sequential` ([documentation](https://pytorch.org/docs/master/nn.html#torch.nn.Sequential)). Using this to build the equivalent network:"
   ]
  },
  {
   "cell_type": "code",
   "execution_count": 77,
   "metadata": {},
   "outputs": [
    {
     "name": "stdout",
     "output_type": "stream",
     "text": [
      "Sequential(\n",
      "  (0): Linear(in_features=784, out_features=128, bias=True)\n",
      "  (1): ReLU()\n",
      "  (2): Linear(in_features=128, out_features=64, bias=True)\n",
      "  (3): ReLU()\n",
      "  (4): Linear(in_features=64, out_features=10, bias=True)\n",
      "  (5): Softmax()\n",
      ")\n"
     ]
    },
    {
     "data": {
      "image/png": "[encoded data removed]",
      "text/plain": [
       "<Figure size 432x648 with 2 Axes>"
      ]
     },
     "metadata": {
      "image/png": {
       "height": 226,
       "width": 423
      },
      "needs_background": "light"
     },
     "output_type": "display_data"
    }
   ],
   "source": [
    "# Hyperparameters for our network\n",
    "input_size = 784\n",
    "hidden_sizes = [128, 64]\n",
    "output_size = 10\n",
    "\n",
    "# Build a feed-forward network\n",
    "model = nn.Sequential(nn.Linear(input_size, hidden_sizes[0]),\n",
    "                      nn.ReLU(),\n",
    "                      nn.Linear(hidden_sizes[0], hidden_sizes[1]),\n",
    "                      nn.ReLU(),\n",
    "                      nn.Linear(hidden_sizes[1], output_size),\n",
    "                      nn.Softmax(dim=1))\n",
    "print(model)\n",
    "\n",
    "# Forward pass through the network and display output\n",
    "images, labels = next(iter(trainloader))\n",
    "images.resize_(images.shape[0], 1, 784)\n",
    "ps = model.forward(images[0,:])\n",
    "helper.view_classify(images[0].view(1, 28, 28), ps)"
   ]
  },
  {
   "cell_type": "markdown",
   "metadata": {},
   "source": [
    "Here our model is the same as before: 784 input units, a hidden layer with 128 units, ReLU activation, 64 unit hidden layer, another ReLU, then the output layer with 10 units, and the softmax output.\n",
    "\n",
    "The operations are available by passing in the appropriate index. For example, if you want to get first Linear operation and look at the weights, you'd use `model[0]`."
   ]
  },
  {
   "cell_type": "code",
   "execution_count": null,
   "metadata": {
    "collapsed": true
   },
   "outputs": [],
   "source": [
    "print(model[0])\n",
    "model[0].weight"
   ]
  },
  {
   "cell_type": "markdown",
   "metadata": {},
   "source": [
    "You can also pass in an `OrderedDict` to name the individual layers and operations, instead of using incremental integers. Note that dictionary keys must be unique, so _each operation must have a different name_."
   ]
  },
  {
   "cell_type": "code",
   "execution_count": null,
   "metadata": {
    "collapsed": true
   },
   "outputs": [],
   "source": [
    "from collections import OrderedDict\n",
    "model = nn.Sequential(OrderedDict([\n",
    "                      ('fc1', nn.Linear(input_size, hidden_sizes[0])),\n",
    "                      ('relu1', nn.ReLU()),\n",
    "                      ('fc2', nn.Linear(hidden_sizes[0], hidden_sizes[1])),\n",
    "                      ('relu2', nn.ReLU()),\n",
    "                      ('output', nn.Linear(hidden_sizes[1], output_size)),\n",
    "                      ('softmax', nn.Softmax(dim=1))]))\n",
    "model"
   ]
  },
  {
   "cell_type": "markdown",
   "metadata": {},
   "source": [
    "Now you can access layers either by integer or the name"
   ]
  },
  {
   "cell_type": "code",
   "execution_count": null,
   "metadata": {
    "collapsed": true
   },
   "outputs": [],
   "source": [
    "print(model[0])\n",
    "print(model.fc1)"
   ]
  },
  {
   "cell_type": "markdown",
   "metadata": {},
   "source": [
    "In the next notebook, we'll see how we can train a neural network to accuractly predict the numbers appearing in the MNIST images."
   ]
  }
 ],
 "metadata": {
  "kernelspec": {
   "display_name": "Python 3",
   "language": "python",
   "name": "python3"
  },
  "language_info": {
   "codemirror_mode": {
    "name": "ipython",
    "version": 3
   },
   "file_extension": ".py",
   "mimetype": "text/x-python",
   "name": "python",
   "nbconvert_exporter": "python",
   "pygments_lexer": "ipython3",
   "version": "3.7.1"
  }
 },
 "nbformat": 4,
 "nbformat_minor": 2
}
